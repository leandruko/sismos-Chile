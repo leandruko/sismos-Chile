{
 "cells": [
  {
   "cell_type": "code",
   "execution_count": 23,
   "metadata": {},
   "outputs": [],
   "source": [
    "import pandas as pd\n",
    "import matplotlib.pyplot as plt\n",
    "import seaborn as sns"
   ]
  },
  {
   "cell_type": "code",
   "execution_count": 24,
   "metadata": {},
   "outputs": [],
   "source": [
    "# Cargar el dataset\n",
    "file_path = 'terremotos.csv'\n",
    "df = pd.read_csv(file_path)"
   ]
  },
  {
   "cell_type": "code",
   "execution_count": 25,
   "metadata": {},
   "outputs": [
    {
     "name": "stdout",
     "output_type": "stream",
     "text": [
      "Primeras filas del dataset:\n",
      "              UTC Date Profoundity Magnitude        Date      Hour  \\\n",
      "0  2024-03-01 16:35:22      243 km    2.9 Ml  2024-03-01  13:35:22   \n",
      "1  2024-03-01 15:41:03      259 km    3.6 Ml  2024-03-01  12:41:03   \n",
      "2  2024-03-01 08:27:13       26 km    2.9 Ml  2024-03-01  05:27:13   \n",
      "3  2024-03-01 08:22:21       54 km    3.7 Ml  2024-03-01  05:22:21   \n",
      "4  2024-03-01 07:12:58       20 km    2.9 Ml  2024-03-01  04:12:58   \n",
      "\n",
      "                   Location  Latitude  Longitude  \n",
      "0    45 km al SE de Socaire   -23.958    -67.698  \n",
      "1     57 km al E de Socaire   -23.800    -67.375  \n",
      "2      33 km al S de Huasco   -28.755    -71.288  \n",
      "3     49 km al SO de Huasco   -28.822    -71.520  \n",
      "4  16 km al SE de Los Vilos   -31.991    -71.376  \n",
      "\n",
      "Información del dataset:\n",
      "<class 'pandas.core.frame.DataFrame'>\n",
      "RangeIndex: 134062 entries, 0 to 134061\n",
      "Data columns (total 8 columns):\n",
      " #   Column       Non-Null Count   Dtype  \n",
      "---  ------       --------------   -----  \n",
      " 0   UTC Date     134062 non-null  object \n",
      " 1   Profoundity  133590 non-null  object \n",
      " 2   Magnitude    133590 non-null  object \n",
      " 3   Date         133590 non-null  object \n",
      " 4   Hour         133590 non-null  object \n",
      " 5   Location     133590 non-null  object \n",
      " 6   Latitude     133590 non-null  float64\n",
      " 7   Longitude    133590 non-null  float64\n",
      "dtypes: float64(2), object(6)\n",
      "memory usage: 8.2+ MB\n",
      "None\n",
      "\n",
      "Descripción estadística:\n",
      "            Latitude      Longitude\n",
      "count  133590.000000  133590.000000\n",
      "mean      -28.025143     -69.920180\n",
      "std         6.730286      10.663553\n",
      "min       -65.399000    -179.989000\n",
      "25%       -33.048000     -71.698000\n",
      "50%       -29.742000     -70.527000\n",
      "75%       -21.997000     -69.013000\n",
      "max        58.692000     179.647000\n",
      "\n",
      "Valores nulos por columna:\n",
      "UTC Date         0\n",
      "Profoundity    472\n",
      "Magnitude      472\n",
      "Date           472\n",
      "Hour           472\n",
      "Location       472\n",
      "Latitude       472\n",
      "Longitude      472\n",
      "dtype: int64\n"
     ]
    }
   ],
   "source": [
    "# Mostrar las primeras filas del dataset\n",
    "print(\"Primeras filas del dataset:\")\n",
    "print(df.head())\n",
    "\n",
    "# Mostrar información general del dataset\n",
    "print(\"\\nInformación del dataset:\")\n",
    "print(df.info())\n",
    "\n",
    "# Descripción estadística básica del dataset\n",
    "print(\"\\nDescripción estadística:\")\n",
    "print(df.describe())\n",
    "\n",
    "# Verificar si hay valores nulos en el dataset\n",
    "print(\"\\nValores nulos por columna:\")\n",
    "print(df.isnull().sum())\n"
   ]
  },
  {
   "cell_type": "code",
   "execution_count": 32,
   "metadata": {},
   "outputs": [],
   "source": [
    "import csv\n",
    "\n",
    "# Leer el contenido del archivo y eliminar las comillas dobles\n",
    "with open('terremotos.csv', \"r+\", encoding=\"utf-8\") as csv_file:\n",
    "    content = csv_file.read()\n",
    "\n",
    "with open('edited.csv', \"w+\", encoding=\"utf-8\") as csv_file:\n",
    "    # Reemplazar comillas dobles\n",
    "    content = content.replace('\"', '')\n",
    "    \n",
    "    # Escribir el contenido sin las comillas dobles en el nuevo archivo\n",
    "    csv_file.write(content)\n",
    "\n",
    "# Ahora, agregar la columna \"Errors\"\n",
    "with open('edited.csv', \"r\", encoding=\"utf-8\") as csv_file:\n",
    "    reader = csv.reader(csv_file)\n",
    "    rows = list(reader)\n",
    "\n",
    "# Agregar la columna \"Errors\" en el encabezado\n",
    "header = rows[0] + ['Errors']\n",
    "rows[0] = header\n",
    "\n",
    "# Guardar el archivo con la nueva columna\n",
    "with open('edited.csv', \"w\", encoding=\"utf-8\", newline='') as csv_file:\n",
    "    writer = csv.writer(csv_file)\n",
    "    writer.writerows(rows)\n"
   ]
  },
  {
   "cell_type": "code",
   "execution_count": 33,
   "metadata": {},
   "outputs": [
    {
     "name": "stderr",
     "output_type": "stream",
     "text": [
      "C:\\Users\\lea\\AppData\\Local\\Temp\\ipykernel_18692\\293882957.py:3: DtypeWarning: Columns (6) have mixed types. Specify dtype option on import or set low_memory=False.\n",
      "  df = pd.read_csv(file_path)\n"
     ]
    }
   ],
   "source": [
    "# Cargar el dataset\n",
    "file_path = 'edited.csv'\n",
    "df = pd.read_csv(file_path)"
   ]
  },
  {
   "cell_type": "code",
   "execution_count": 34,
   "metadata": {},
   "outputs": [
    {
     "name": "stdout",
     "output_type": "stream",
     "text": [
      "Primeras filas del dataset:\n",
      "              UTC Date Profoundity Magnitude        Date      Hour  \\\n",
      "0  2024-03-01 16:35:22      243 km    2.9 Ml  2024-03-01  13:35:22   \n",
      "1  2024-03-01 15:41:03      259 km    3.6 Ml  2024-03-01  12:41:03   \n",
      "2  2024-03-01 08:27:13       26 km    2.9 Ml  2024-03-01  05:27:13   \n",
      "3  2024-03-01 08:22:21       54 km    3.7 Ml  2024-03-01  05:22:21   \n",
      "4  2024-03-01 07:12:58       20 km    2.9 Ml  2024-03-01  04:12:58   \n",
      "\n",
      "                   Location Latitude  Longitude  Errors  \n",
      "0    45 km al SE de Socaire  -23.958    -67.698     NaN  \n",
      "1     57 km al E de Socaire  -23.800    -67.375     NaN  \n",
      "2      33 km al S de Huasco  -28.755    -71.288     NaN  \n",
      "3     49 km al SO de Huasco  -28.822    -71.520     NaN  \n",
      "4  16 km al SE de Los Vilos  -31.991    -71.376     NaN  \n",
      "\n",
      "Información del dataset:\n",
      "<class 'pandas.core.frame.DataFrame'>\n",
      "RangeIndex: 134062 entries, 0 to 134061\n",
      "Data columns (total 9 columns):\n",
      " #   Column       Non-Null Count   Dtype  \n",
      "---  ------       --------------   -----  \n",
      " 0   UTC Date     134062 non-null  object \n",
      " 1   Profoundity  134062 non-null  object \n",
      " 2   Magnitude    134062 non-null  object \n",
      " 3   Date         134062 non-null  object \n",
      " 4   Hour         134062 non-null  object \n",
      " 5   Location     134062 non-null  object \n",
      " 6   Latitude     134062 non-null  object \n",
      " 7   Longitude    134062 non-null  float64\n",
      " 8   Errors       472 non-null     float64\n",
      "dtypes: float64(2), object(7)\n",
      "memory usage: 9.2+ MB\n",
      "None\n",
      "\n",
      "Descripción estadística:\n",
      "           Longitude      Errors\n",
      "count  134062.000000  472.000000\n",
      "mean      -69.891829  -55.095220\n",
      "std        10.655730   10.113674\n",
      "min      -179.989000  -63.016000\n",
      "25%       -71.695000  -58.408000\n",
      "50%       -70.518000  -58.344500\n",
      "75%       -69.002000  -58.249750\n",
      "max       179.647000   -1.535000\n",
      "\n",
      "Valores nulos por columna:\n",
      "UTC Date            0\n",
      "Profoundity         0\n",
      "Magnitude           0\n",
      "Date                0\n",
      "Hour                0\n",
      "Location            0\n",
      "Latitude            0\n",
      "Longitude           0\n",
      "Errors         133590\n",
      "dtype: int64\n"
     ]
    }
   ],
   "source": [
    "# Mostrar las primeras filas del dataset\n",
    "print(\"Primeras filas del dataset:\")\n",
    "print(df.head())\n",
    "\n",
    "# Mostrar información general del dataset\n",
    "print(\"\\nInformación del dataset:\")\n",
    "print(df.info())\n",
    "\n",
    "# Descripción estadística básica del dataset\n",
    "print(\"\\nDescripción estadística:\")\n",
    "print(df.describe())\n",
    "\n",
    "# Verificar si hay valores nulos en el dataset\n",
    "print(\"\\nValores nulos por columna:\")\n",
    "print(df.isnull().sum())\n"
   ]
  }
 ],
 "metadata": {
  "kernelspec": {
   "display_name": "Python 3",
   "language": "python",
   "name": "python3"
  },
  "language_info": {
   "codemirror_mode": {
    "name": "ipython",
    "version": 3
   },
   "file_extension": ".py",
   "mimetype": "text/x-python",
   "name": "python",
   "nbconvert_exporter": "python",
   "pygments_lexer": "ipython3",
   "version": "3.12.5"
  }
 },
 "nbformat": 4,
 "nbformat_minor": 2
}
