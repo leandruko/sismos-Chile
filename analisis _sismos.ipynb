{
 "cells": [
  {
   "cell_type": "code",
   "execution_count": 2,
   "metadata": {},
   "outputs": [],
   "source": [
    "import pandas as pd\n",
    "import matplotlib.pyplot as plt\n",
    "import seaborn as sns"
   ]
  },
  {
   "cell_type": "code",
   "execution_count": 3,
   "metadata": {},
   "outputs": [],
   "source": [
    "# Cargar el dataset\n",
    "file_path = 'terremotos.csv'\n",
    "df = pd.read_csv(file_path)"
   ]
  },
  {
   "cell_type": "code",
   "execution_count": 4,
   "metadata": {},
   "outputs": [
    {
     "name": "stdout",
     "output_type": "stream",
     "text": [
      "Primeras filas del dataset:\n",
      "              UTC Date Profoundity Magnitude        Date      Hour  \\\n",
      "0  2024-03-01 16:35:22      243 km    2.9 Ml  2024-03-01  13:35:22   \n",
      "1  2024-03-01 15:41:03      259 km    3.6 Ml  2024-03-01  12:41:03   \n",
      "2  2024-03-01 08:27:13       26 km    2.9 Ml  2024-03-01  05:27:13   \n",
      "3  2024-03-01 08:22:21       54 km    3.7 Ml  2024-03-01  05:22:21   \n",
      "4  2024-03-01 07:12:58       20 km    2.9 Ml  2024-03-01  04:12:58   \n",
      "\n",
      "                   Location  Latitude  Longitude  \n",
      "0    45 km al SE de Socaire   -23.958    -67.698  \n",
      "1     57 km al E de Socaire   -23.800    -67.375  \n",
      "2      33 km al S de Huasco   -28.755    -71.288  \n",
      "3     49 km al SO de Huasco   -28.822    -71.520  \n",
      "4  16 km al SE de Los Vilos   -31.991    -71.376  \n",
      "\n",
      "Información del dataset:\n",
      "<class 'pandas.core.frame.DataFrame'>\n",
      "RangeIndex: 134062 entries, 0 to 134061\n",
      "Data columns (total 8 columns):\n",
      " #   Column       Non-Null Count   Dtype  \n",
      "---  ------       --------------   -----  \n",
      " 0   UTC Date     134062 non-null  object \n",
      " 1   Profoundity  133590 non-null  object \n",
      " 2   Magnitude    133590 non-null  object \n",
      " 3   Date         133590 non-null  object \n",
      " 4   Hour         133590 non-null  object \n",
      " 5   Location     133590 non-null  object \n",
      " 6   Latitude     133590 non-null  float64\n",
      " 7   Longitude    133590 non-null  float64\n",
      "dtypes: float64(2), object(6)\n",
      "memory usage: 8.2+ MB\n",
      "None\n",
      "\n",
      "Descripción estadística:\n",
      "            Latitude      Longitude\n",
      "count  133590.000000  133590.000000\n",
      "mean      -28.025143     -69.920180\n",
      "std         6.730286      10.663553\n",
      "min       -65.399000    -179.989000\n",
      "25%       -33.048000     -71.698000\n",
      "50%       -29.742000     -70.527000\n",
      "75%       -21.997000     -69.013000\n",
      "max        58.692000     179.647000\n",
      "\n",
      "Valores nulos por columna:\n",
      "UTC Date         0\n",
      "Profoundity    472\n",
      "Magnitude      472\n",
      "Date           472\n",
      "Hour           472\n",
      "Location       472\n",
      "Latitude       472\n",
      "Longitude      472\n",
      "dtype: int64\n"
     ]
    }
   ],
   "source": [
    "# Mostrar las primeras filas del dataset\n",
    "print(\"Primeras filas del dataset:\")\n",
    "print(df.head())\n",
    "\n",
    "# Mostrar información general del dataset\n",
    "print(\"\\nInformación del dataset:\")\n",
    "print(df.info())\n",
    "\n",
    "# Descripción estadística básica del dataset\n",
    "print(\"\\nDescripción estadística:\")\n",
    "print(df.describe())\n",
    "\n",
    "# Verificar si hay valores nulos en el dataset\n",
    "print(\"\\nValores nulos por columna:\")\n",
    "print(df.isnull().sum())\n"
   ]
  },
  {
   "cell_type": "code",
   "execution_count": 5,
   "metadata": {},
   "outputs": [],
   "source": [
    "import csv\n",
    "\n",
    "# Leer el contenido del archivo y eliminar las comillas dobles\n",
    "with open('terremotos.csv', \"r+\", encoding=\"utf-8\") as csv_file:\n",
    "    content = csv_file.read()\n",
    "\n",
    "with open('edited.csv', \"w+\", encoding=\"utf-8\") as csv_file:\n",
    "    # Reemplazar comillas dobles\n",
    "    content = content.replace('\"', '')\n",
    "    \n",
    "    # Escribir el contenido sin las comillas dobles en el nuevo archivo\n",
    "    csv_file.write(content)\n",
    "\n",
    "# Ahora, agregar la columna \"Errors\"\n",
    "with open('edited.csv', \"r\", encoding=\"utf-8\") as csv_file:\n",
    "    reader = csv.reader(csv_file)\n",
    "    rows = list(reader)\n",
    "\n",
    "# Agregar la columna \"Errors\" en el encabezado\n",
    "header = rows[0] + ['Errors']\n",
    "rows[0] = header\n",
    "\n",
    "# Guardar el archivo con la nueva columna\n",
    "with open('df2.csv', \"w\", encoding=\"utf-8\", newline='') as csv_file:\n",
    "    writer = csv.writer(csv_file)\n",
    "    writer.writerows(rows)\n"
   ]
  },
  {
   "cell_type": "code",
   "execution_count": 6,
   "metadata": {},
   "outputs": [
    {
     "name": "stderr",
     "output_type": "stream",
     "text": [
      "C:\\Users\\lea\\AppData\\Local\\Temp\\ipykernel_6784\\3118929495.py:3: DtypeWarning: Columns (6) have mixed types. Specify dtype option on import or set low_memory=False.\n",
      "  df = pd.read_csv(file_path)\n"
     ]
    }
   ],
   "source": [
    "# Cargar el dataset\n",
    "file_path = 'df2.csv'\n",
    "df = pd.read_csv(file_path)"
   ]
  },
  {
   "cell_type": "code",
   "execution_count": 7,
   "metadata": {},
   "outputs": [
    {
     "name": "stdout",
     "output_type": "stream",
     "text": [
      "Primeras filas del dataset:\n",
      "              UTC Date Profoundity Magnitude        Date      Hour  \\\n",
      "0  2024-03-01 16:35:22      243 km    2.9 Ml  2024-03-01  13:35:22   \n",
      "1  2024-03-01 15:41:03      259 km    3.6 Ml  2024-03-01  12:41:03   \n",
      "2  2024-03-01 08:27:13       26 km    2.9 Ml  2024-03-01  05:27:13   \n",
      "3  2024-03-01 08:22:21       54 km    3.7 Ml  2024-03-01  05:22:21   \n",
      "4  2024-03-01 07:12:58       20 km    2.9 Ml  2024-03-01  04:12:58   \n",
      "\n",
      "                   Location Latitude  Longitude  Errors  \n",
      "0    45 km al SE de Socaire  -23.958    -67.698     NaN  \n",
      "1     57 km al E de Socaire  -23.800    -67.375     NaN  \n",
      "2      33 km al S de Huasco  -28.755    -71.288     NaN  \n",
      "3     49 km al SO de Huasco  -28.822    -71.520     NaN  \n",
      "4  16 km al SE de Los Vilos  -31.991    -71.376     NaN  \n",
      "\n",
      "Información del dataset:\n",
      "<class 'pandas.core.frame.DataFrame'>\n",
      "RangeIndex: 134062 entries, 0 to 134061\n",
      "Data columns (total 9 columns):\n",
      " #   Column       Non-Null Count   Dtype  \n",
      "---  ------       --------------   -----  \n",
      " 0   UTC Date     134062 non-null  object \n",
      " 1   Profoundity  134062 non-null  object \n",
      " 2   Magnitude    134062 non-null  object \n",
      " 3   Date         134062 non-null  object \n",
      " 4   Hour         134062 non-null  object \n",
      " 5   Location     134062 non-null  object \n",
      " 6   Latitude     134062 non-null  object \n",
      " 7   Longitude    134062 non-null  float64\n",
      " 8   Errors       472 non-null     float64\n",
      "dtypes: float64(2), object(7)\n",
      "memory usage: 9.2+ MB\n",
      "None\n",
      "\n",
      "Descripción estadística:\n",
      "           Longitude      Errors\n",
      "count  134062.000000  472.000000\n",
      "mean      -69.891829  -55.095220\n",
      "std        10.655730   10.113674\n",
      "min      -179.989000  -63.016000\n",
      "25%       -71.695000  -58.408000\n",
      "50%       -70.518000  -58.344500\n",
      "75%       -69.002000  -58.249750\n",
      "max       179.647000   -1.535000\n",
      "\n",
      "Valores nulos por columna:\n",
      "UTC Date            0\n",
      "Profoundity         0\n",
      "Magnitude           0\n",
      "Date                0\n",
      "Hour                0\n",
      "Location            0\n",
      "Latitude            0\n",
      "Longitude           0\n",
      "Errors         133590\n",
      "dtype: int64\n"
     ]
    }
   ],
   "source": [
    "# Mostrar las primeras filas del dataset\n",
    "print(\"Primeras filas del dataset:\")\n",
    "print(df.head())\n",
    "\n",
    "# Mostrar información general del dataset\n",
    "print(\"\\nInformación del dataset:\")\n",
    "print(df.info())\n",
    "\n",
    "# Descripción estadística básica del dataset\n",
    "print(\"\\nDescripción estadística:\")\n",
    "print(df.describe())\n",
    "\n",
    "# Verificar si hay valores nulos en el dataset\n",
    "print(\"\\nValores nulos por columna:\")\n",
    "print(df.isnull().sum())\n"
   ]
  },
  {
   "cell_type": "code",
   "execution_count": 8,
   "metadata": {},
   "outputs": [
    {
     "name": "stdout",
     "output_type": "stream",
     "text": [
      "                        Location Latitude  Longitude  Errors\n",
      "0         45 km al SE de Socaire  -23.958    -67.698     NaN\n",
      "1          57 km al E de Socaire  -23.800    -67.375     NaN\n",
      "2           33 km al S de Huasco  -28.755    -71.288     NaN\n",
      "3          49 km al SO de Huasco  -28.822    -71.520     NaN\n",
      "4       16 km al SE de Los Vilos  -31.991    -71.376     NaN\n",
      "...                          ...      ...        ...     ...\n",
      "134057   15 km al SO de Quillota  -32.986    -71.348     NaN\n",
      "134058     22 km al S de Petorca  -32.446    -70.923     NaN\n",
      "134059    18 km al NO de Illapel  -31.535    -71.318     NaN\n",
      "134060  16 km al SO de Melipilla  -33.787    -71.339     NaN\n",
      "134061    22 km al O de Santiago   -33.41    -70.880     NaN\n",
      "\n",
      "[134062 rows x 4 columns]\n"
     ]
    }
   ],
   "source": [
    "import pandas as pd\n",
    "\n",
    "# Supongamos que tu DataFrame original se llama df\n",
    "# Carga el DataFrame desde tu archivo\n",
    "# df = pd.read_csv('tu_archivo.csv')\n",
    "\n",
    "# Crear un nuevo DataFrame con solo las columnas\n",
    "df_separated = df[['Location','Latitude', 'Longitude', 'Errors']]\n",
    "\n",
    "# Mostrar el nuevo DataFrame separado\n",
    "print(df_separated)\n",
    "\n",
    "# Opcional: guardar el DataFrame separado en un nuevo archivo CSV\n",
    "df_separated.to_csv('columnas_separadas.csv', index=False)\n"
   ]
  },
  {
   "cell_type": "code",
   "execution_count": 9,
   "metadata": {},
   "outputs": [
    {
     "name": "stderr",
     "output_type": "stream",
     "text": [
      "C:\\Users\\lea\\AppData\\Local\\Temp\\ipykernel_6784\\1652336599.py:3: DtypeWarning: Columns (1) have mixed types. Specify dtype option on import or set low_memory=False.\n",
      "  df = pd.read_csv(file_path)\n"
     ]
    }
   ],
   "source": [
    "# Cargar el dataset\n",
    "file_path = 'columnas_separadas.csv'\n",
    "df = pd.read_csv(file_path)"
   ]
  },
  {
   "cell_type": "code",
   "execution_count": 10,
   "metadata": {},
   "outputs": [
    {
     "name": "stdout",
     "output_type": "stream",
     "text": [
      "Primeras filas del dataset:\n",
      "                   Location Latitude  Longitude  Errors\n",
      "0    45 km al SE de Socaire  -23.958    -67.698     NaN\n",
      "1     57 km al E de Socaire  -23.800    -67.375     NaN\n",
      "2      33 km al S de Huasco  -28.755    -71.288     NaN\n",
      "3     49 km al SO de Huasco  -28.822    -71.520     NaN\n",
      "4  16 km al SE de Los Vilos  -31.991    -71.376     NaN\n",
      "\n",
      "Información del dataset:\n",
      "<class 'pandas.core.frame.DataFrame'>\n",
      "RangeIndex: 134062 entries, 0 to 134061\n",
      "Data columns (total 4 columns):\n",
      " #   Column     Non-Null Count   Dtype  \n",
      "---  ------     --------------   -----  \n",
      " 0   Location   134062 non-null  object \n",
      " 1   Latitude   134062 non-null  object \n",
      " 2   Longitude  134062 non-null  float64\n",
      " 3   Errors     472 non-null     float64\n",
      "dtypes: float64(2), object(2)\n",
      "memory usage: 4.1+ MB\n",
      "None\n",
      "\n",
      "Descripción estadística:\n",
      "           Longitude      Errors\n",
      "count  134062.000000  472.000000\n",
      "mean      -69.891829  -55.095220\n",
      "std        10.655730   10.113674\n",
      "min      -179.989000  -63.016000\n",
      "25%       -71.695000  -58.408000\n",
      "50%       -70.518000  -58.344500\n",
      "75%       -69.002000  -58.249750\n",
      "max       179.647000   -1.535000\n",
      "\n",
      "Valores nulos por columna:\n",
      "Location          0\n",
      "Latitude          0\n",
      "Longitude         0\n",
      "Errors       133590\n",
      "dtype: int64\n"
     ]
    }
   ],
   "source": [
    "# Mostrar las primeras filas del dataset\n",
    "print(\"Primeras filas del dataset:\")\n",
    "print(df.head())\n",
    "\n",
    "# Mostrar información general del dataset\n",
    "print(\"\\nInformación del dataset:\")\n",
    "print(df.info())\n",
    "\n",
    "# Descripción estadística básica del dataset\n",
    "print(\"\\nDescripción estadística:\")\n",
    "print(df.describe())\n",
    "\n",
    "# Verificar si hay valores nulos en el dataset\n",
    "print(\"\\nValores nulos por columna:\")\n",
    "print(df.isnull().sum())\n"
   ]
  },
  {
   "cell_type": "code",
   "execution_count": 11,
   "metadata": {},
   "outputs": [
    {
     "name": "stdout",
     "output_type": "stream",
     "text": [
      "                         Location     Latitude  Longitude  Errors\n",
      "3167     183 km al S de Base Frei   AntÃ¡rtica    -63.844 -59.006\n",
      "8275     117 km al E de Base Frei   AntÃ¡rtica    -61.554 -57.199\n",
      "11985    130 km al O de Base Frei   AntÃ¡rtica    -62.293 -61.480\n",
      "12531     31 km al E de Base Frei   AntÃ¡rtica    -62.186 -58.380\n",
      "12564     12 km al E de Base Frei   AntÃ¡rtica    -62.148 -58.755\n",
      "...                           ...          ...        ...     ...\n",
      "120467  1863 km al E de Base Frei   AntÃ¡rtica    -58.674 -25.359\n",
      "120654  1903 km al E de Base Frei   AntÃ¡rtica    -57.929 -25.329\n",
      "120730  1876 km al E de Base Frei   AntÃ¡rtica    -55.325 -28.844\n",
      "122284  1899 km al E de Base Frei   AntÃ¡rtica    -55.699 -27.913\n",
      "122692  2421 km al E de Base Frei   AntÃ¡rtica    -58.433 -14.751\n",
      "\n",
      "[472 rows x 4 columns]\n"
     ]
    }
   ],
   "source": [
    "# Filtrar las filas donde la columna 'Latitude' tiene el valor 'AntÃ¡rtica'\n",
    "df_filtered = df[df['Latitude'].str.contains('AntÃ¡rtica', na=False, case=False)]\n",
    "\n",
    "# Mostrar el DataFrame filtrado\n",
    "print(df_filtered)\n"
   ]
  },
  {
   "cell_type": "code",
   "execution_count": 12,
   "metadata": {},
   "outputs": [],
   "source": [
    "# Cargar el dataset\n",
    "file_path = 'df.csv'\n",
    "df = pd.read_csv(file_path)"
   ]
  },
  {
   "cell_type": "code",
   "execution_count": 15,
   "metadata": {},
   "outputs": [],
   "source": [
    "# Eliminar la columna sin nombre (Unnamed: 8)\n",
    "df = df.drop(columns=['Unnamed: 8'])\n",
    "df.to_csv('df_final.csv', index=False)\n",
    "\n",
    "# Guardar el nuevo DataFrame sin la columna"
   ]
  },
  {
   "cell_type": "code",
   "execution_count": null,
   "metadata": {},
   "outputs": [],
   "source": [
    "# Cargar el dataset\n",
    "file_path = 'df_final.csv'\n",
    "df = pd.read_csv(file_path)"
   ]
  },
  {
   "cell_type": "code",
   "execution_count": 13,
   "metadata": {},
   "outputs": [
    {
     "name": "stdout",
     "output_type": "stream",
     "text": [
      "Primeras filas del dataset:\n",
      "              UTC Date Profoundity Magnitude        Date      Hour  \\\n",
      "0  2024-03-01 16:35:22      243 km    2.9 Ml  2024-03-01  13:35:22   \n",
      "1  2024-03-01 15:41:03      259 km    3.6 Ml  2024-03-01  12:41:03   \n",
      "2   2024-03-01 8:27:13       26 km    2.9 Ml  2024-03-01   5:27:13   \n",
      "3   2024-03-01 8:22:21       54 km    3.7 Ml  2024-03-01   5:22:21   \n",
      "4   2024-03-01 7:12:58       20 km    2.9 Ml  2024-03-01   4:12:58   \n",
      "\n",
      "                   Location  Latitude  Longitude  Unnamed: 8  \n",
      "0    45 km al SE de Socaire   -23.958    -67.698         NaN  \n",
      "1     57 km al E de Socaire   -23.800    -67.375         NaN  \n",
      "2      33 km al S de Huasco   -28.755    -71.288         NaN  \n",
      "3     49 km al SO de Huasco   -28.822    -71.520         NaN  \n",
      "4  16 km al SE de Los Vilos   -31.991    -71.376         NaN  \n",
      "\n",
      "Información del dataset:\n",
      "<class 'pandas.core.frame.DataFrame'>\n",
      "RangeIndex: 134062 entries, 0 to 134061\n",
      "Data columns (total 9 columns):\n",
      " #   Column       Non-Null Count   Dtype  \n",
      "---  ------       --------------   -----  \n",
      " 0   UTC Date     134062 non-null  object \n",
      " 1   Profoundity  134062 non-null  object \n",
      " 2   Magnitude    134062 non-null  object \n",
      " 3   Date         134062 non-null  object \n",
      " 4   Hour         134062 non-null  object \n",
      " 5   Location     134062 non-null  object \n",
      " 6   Latitude     134062 non-null  float64\n",
      " 7   Longitude    134062 non-null  float64\n",
      " 8   Unnamed: 8   0 non-null       float64\n",
      "dtypes: float64(3), object(6)\n",
      "memory usage: 9.2+ MB\n",
      "None\n",
      "\n",
      "Descripción estadística:\n",
      "            Latitude      Longitude  Unnamed: 8\n",
      "count  134062.000000  134062.000000         0.0\n",
      "mean      -28.144294     -69.867985         NaN\n",
      "std         7.011530      10.697731         NaN\n",
      "min       -65.399000    -179.989000         NaN\n",
      "25%       -33.075000     -71.695000         NaN\n",
      "50%       -29.800500     -70.518000         NaN\n",
      "75%       -22.008000     -69.002000         NaN\n",
      "max        58.692000     179.647000         NaN\n",
      "\n",
      "Valores nulos por columna:\n",
      "UTC Date            0\n",
      "Profoundity         0\n",
      "Magnitude           0\n",
      "Date                0\n",
      "Hour                0\n",
      "Location            0\n",
      "Latitude            0\n",
      "Longitude           0\n",
      "Unnamed: 8     134062\n",
      "dtype: int64\n"
     ]
    }
   ],
   "source": [
    "# Mostrar las primeras filas del dataset\n",
    "print(\"Primeras filas del dataset:\")\n",
    "print(df.head())\n",
    "\n",
    "# Mostrar información general del dataset\n",
    "print(\"\\nInformación del dataset:\")\n",
    "print(df.info())\n",
    "\n",
    "# Descripción estadística básica del dataset\n",
    "print(\"\\nDescripción estadística:\")\n",
    "print(df.describe())\n",
    "\n",
    "# Verificar si hay valores nulos en el dataset\n",
    "print(\"\\nValores nulos por columna:\")\n",
    "print(df.isnull().sum())\n"
   ]
  },
  {
   "cell_type": "code",
   "execution_count": 14,
   "metadata": {},
   "outputs": [
    {
     "name": "stdout",
     "output_type": "stream",
     "text": [
      "\n",
      "Valores nulos por columna:\n",
      "UTC Date            0\n",
      "Profoundity         0\n",
      "Magnitude           0\n",
      "Date                0\n",
      "Hour                0\n",
      "Location            0\n",
      "Latitude            0\n",
      "Longitude           0\n",
      "Unnamed: 8     134062\n",
      "dtype: int64\n"
     ]
    }
   ],
   "source": [
    "print(\"\\nValores nulos por columna:\")\n",
    "print(df.isnull().sum())\n"
   ]
  }
 ],
 "metadata": {
  "kernelspec": {
   "display_name": "Python 3",
   "language": "python",
   "name": "python3"
  },
  "language_info": {
   "codemirror_mode": {
    "name": "ipython",
    "version": 3
   },
   "file_extension": ".py",
   "mimetype": "text/x-python",
   "name": "python",
   "nbconvert_exporter": "python",
   "pygments_lexer": "ipython3",
   "version": "3.12.5"
  }
 },
 "nbformat": 4,
 "nbformat_minor": 2
}
