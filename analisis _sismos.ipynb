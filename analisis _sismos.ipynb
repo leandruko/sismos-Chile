{
 "cells": [
  {
   "cell_type": "code",
   "execution_count": 32,
   "metadata": {},
   "outputs": [],
   "source": [
    "import pandas as pd\n",
    "import matplotlib.pyplot as plt\n",
    "import seaborn as sns"
   ]
  },
  {
   "cell_type": "code",
   "execution_count": 33,
   "metadata": {},
   "outputs": [],
   "source": [
    "# Cargar el dataset\n",
    "file_path = 'terremotos.csv'\n",
    "df = pd.read_csv(file_path)"
   ]
  },
  {
   "cell_type": "code",
   "execution_count": 34,
   "metadata": {},
   "outputs": [
    {
     "data": {
      "text/html": [
       "<div>\n",
       "<style scoped>\n",
       "    .dataframe tbody tr th:only-of-type {\n",
       "        vertical-align: middle;\n",
       "    }\n",
       "\n",
       "    .dataframe tbody tr th {\n",
       "        vertical-align: top;\n",
       "    }\n",
       "\n",
       "    .dataframe thead th {\n",
       "        text-align: right;\n",
       "    }\n",
       "</style>\n",
       "<table border=\"1\" class=\"dataframe\">\n",
       "  <thead>\n",
       "    <tr style=\"text-align: right;\">\n",
       "      <th></th>\n",
       "      <th>Latitude</th>\n",
       "      <th>Longitude</th>\n",
       "    </tr>\n",
       "  </thead>\n",
       "  <tbody>\n",
       "    <tr>\n",
       "      <th>count</th>\n",
       "      <td>133590.000000</td>\n",
       "      <td>133590.000000</td>\n",
       "    </tr>\n",
       "    <tr>\n",
       "      <th>mean</th>\n",
       "      <td>-28.025143</td>\n",
       "      <td>-69.920180</td>\n",
       "    </tr>\n",
       "    <tr>\n",
       "      <th>std</th>\n",
       "      <td>6.730286</td>\n",
       "      <td>10.663553</td>\n",
       "    </tr>\n",
       "    <tr>\n",
       "      <th>min</th>\n",
       "      <td>-65.399000</td>\n",
       "      <td>-179.989000</td>\n",
       "    </tr>\n",
       "    <tr>\n",
       "      <th>25%</th>\n",
       "      <td>-33.048000</td>\n",
       "      <td>-71.698000</td>\n",
       "    </tr>\n",
       "    <tr>\n",
       "      <th>50%</th>\n",
       "      <td>-29.742000</td>\n",
       "      <td>-70.527000</td>\n",
       "    </tr>\n",
       "    <tr>\n",
       "      <th>75%</th>\n",
       "      <td>-21.997000</td>\n",
       "      <td>-69.013000</td>\n",
       "    </tr>\n",
       "    <tr>\n",
       "      <th>max</th>\n",
       "      <td>58.692000</td>\n",
       "      <td>179.647000</td>\n",
       "    </tr>\n",
       "  </tbody>\n",
       "</table>\n",
       "</div>"
      ],
      "text/plain": [
       "            Latitude      Longitude\n",
       "count  133590.000000  133590.000000\n",
       "mean      -28.025143     -69.920180\n",
       "std         6.730286      10.663553\n",
       "min       -65.399000    -179.989000\n",
       "25%       -33.048000     -71.698000\n",
       "50%       -29.742000     -70.527000\n",
       "75%       -21.997000     -69.013000\n",
       "max        58.692000     179.647000"
      ]
     },
     "execution_count": 34,
     "metadata": {},
     "output_type": "execute_result"
    }
   ],
   "source": [
    "df.describe()"
   ]
  },
  {
   "cell_type": "code",
   "execution_count": 35,
   "metadata": {},
   "outputs": [
    {
     "name": "stdout",
     "output_type": "stream",
     "text": [
      "Primeras filas del dataset:\n",
      "              UTC Date Profoundity Magnitude        Date      Hour  \\\n",
      "0  2024-03-01 16:35:22      243 km    2.9 Ml  2024-03-01  13:35:22   \n",
      "1  2024-03-01 15:41:03      259 km    3.6 Ml  2024-03-01  12:41:03   \n",
      "2  2024-03-01 08:27:13       26 km    2.9 Ml  2024-03-01  05:27:13   \n",
      "3  2024-03-01 08:22:21       54 km    3.7 Ml  2024-03-01  05:22:21   \n",
      "4  2024-03-01 07:12:58       20 km    2.9 Ml  2024-03-01  04:12:58   \n",
      "\n",
      "                   Location  Latitude  Longitude  \n",
      "0    45 km al SE de Socaire   -23.958    -67.698  \n",
      "1     57 km al E de Socaire   -23.800    -67.375  \n",
      "2      33 km al S de Huasco   -28.755    -71.288  \n",
      "3     49 km al SO de Huasco   -28.822    -71.520  \n",
      "4  16 km al SE de Los Vilos   -31.991    -71.376  \n",
      "\n",
      "Información del dataset:\n",
      "<class 'pandas.core.frame.DataFrame'>\n",
      "RangeIndex: 134062 entries, 0 to 134061\n",
      "Data columns (total 8 columns):\n",
      " #   Column       Non-Null Count   Dtype  \n",
      "---  ------       --------------   -----  \n",
      " 0   UTC Date     134062 non-null  object \n",
      " 1   Profoundity  133590 non-null  object \n",
      " 2   Magnitude    133590 non-null  object \n",
      " 3   Date         133590 non-null  object \n",
      " 4   Hour         133590 non-null  object \n",
      " 5   Location     133590 non-null  object \n",
      " 6   Latitude     133590 non-null  float64\n",
      " 7   Longitude    133590 non-null  float64\n",
      "dtypes: float64(2), object(6)\n",
      "memory usage: 8.2+ MB\n",
      "None\n",
      "\n",
      "Descripción estadística:\n",
      "            Latitude      Longitude\n",
      "count  133590.000000  133590.000000\n",
      "mean      -28.025143     -69.920180\n",
      "std         6.730286      10.663553\n",
      "min       -65.399000    -179.989000\n",
      "25%       -33.048000     -71.698000\n",
      "50%       -29.742000     -70.527000\n",
      "75%       -21.997000     -69.013000\n",
      "max        58.692000     179.647000\n",
      "\n",
      "Valores nulos por columna:\n",
      "UTC Date         0\n",
      "Profoundity    472\n",
      "Magnitude      472\n",
      "Date           472\n",
      "Hour           472\n",
      "Location       472\n",
      "Latitude       472\n",
      "Longitude      472\n",
      "dtype: int64\n"
     ]
    }
   ],
   "source": [
    "# Mostrar las primeras filas del dataset\n",
    "print(\"Primeras filas del dataset:\")\n",
    "print(df.head())\n",
    "\n",
    "# Mostrar información general del dataset\n",
    "print(\"\\nInformación del dataset:\")\n",
    "print(df.info())\n",
    "\n",
    "# Descripción estadística básica del dataset\n",
    "print(\"\\nDescripción estadística:\")\n",
    "print(df.describe())\n",
    "\n",
    "# Verificar si hay valores nulos en el dataset\n",
    "print(\"\\nValores nulos por columna:\")\n",
    "print(df.isnull().sum())\n"
   ]
  },
  {
   "cell_type": "code",
   "execution_count": 36,
   "metadata": {},
   "outputs": [],
   "source": [
    "import csv\n",
    "\n",
    "# Leer el contenido del archivo y eliminar las comillas dobles\n",
    "with open('terremotos.csv', \"r+\", encoding=\"utf-8\") as csv_file:\n",
    "    content = csv_file.read()\n",
    "\n",
    "with open('edited.csv', \"w+\", encoding=\"utf-8\") as csv_file:\n",
    "    # Reemplazar comillas dobles\n",
    "    content = content.replace('\"', '')\n",
    "    \n",
    "    # Escribir el contenido sin las comillas dobles en el nuevo archivo\n",
    "    csv_file.write(content)\n",
    "\n",
    "# Ahora, agregar la columna \"Errors\"\n",
    "with open('edited.csv', \"r\", encoding=\"utf-8\") as csv_file:\n",
    "    reader = csv.reader(csv_file)\n",
    "    rows = list(reader)\n",
    "\n",
    "# Agregar la columna \"Errors\" en el encabezado\n",
    "header = rows[0] + ['Errors']\n",
    "rows[0] = header\n",
    "\n",
    "# Guardar el archivo con la nueva columna\n",
    "with open('df2.csv', \"w\", encoding=\"utf-8\", newline='') as csv_file:\n",
    "    writer = csv.writer(csv_file)\n",
    "    writer.writerows(rows)\n"
   ]
  },
  {
   "cell_type": "code",
   "execution_count": 37,
   "metadata": {},
   "outputs": [
    {
     "name": "stderr",
     "output_type": "stream",
     "text": [
      "C:\\Users\\lea\\AppData\\Local\\Temp\\ipykernel_6784\\3118929495.py:3: DtypeWarning: Columns (6) have mixed types. Specify dtype option on import or set low_memory=False.\n",
      "  df = pd.read_csv(file_path)\n"
     ]
    }
   ],
   "source": [
    "# Cargar el dataset\n",
    "file_path = 'df2.csv'\n",
    "df = pd.read_csv(file_path)"
   ]
  },
  {
   "cell_type": "code",
   "execution_count": 38,
   "metadata": {},
   "outputs": [
    {
     "name": "stdout",
     "output_type": "stream",
     "text": [
      "Primeras filas del dataset:\n",
      "              UTC Date Profoundity Magnitude        Date      Hour  \\\n",
      "0  2024-03-01 16:35:22      243 km    2.9 Ml  2024-03-01  13:35:22   \n",
      "1  2024-03-01 15:41:03      259 km    3.6 Ml  2024-03-01  12:41:03   \n",
      "2  2024-03-01 08:27:13       26 km    2.9 Ml  2024-03-01  05:27:13   \n",
      "3  2024-03-01 08:22:21       54 km    3.7 Ml  2024-03-01  05:22:21   \n",
      "4  2024-03-01 07:12:58       20 km    2.9 Ml  2024-03-01  04:12:58   \n",
      "\n",
      "                   Location Latitude  Longitude  Errors  \n",
      "0    45 km al SE de Socaire  -23.958    -67.698     NaN  \n",
      "1     57 km al E de Socaire  -23.800    -67.375     NaN  \n",
      "2      33 km al S de Huasco  -28.755    -71.288     NaN  \n",
      "3     49 km al SO de Huasco  -28.822    -71.520     NaN  \n",
      "4  16 km al SE de Los Vilos  -31.991    -71.376     NaN  \n",
      "\n",
      "Información del dataset:\n",
      "<class 'pandas.core.frame.DataFrame'>\n",
      "RangeIndex: 134062 entries, 0 to 134061\n",
      "Data columns (total 9 columns):\n",
      " #   Column       Non-Null Count   Dtype  \n",
      "---  ------       --------------   -----  \n",
      " 0   UTC Date     134062 non-null  object \n",
      " 1   Profoundity  134062 non-null  object \n",
      " 2   Magnitude    134062 non-null  object \n",
      " 3   Date         134062 non-null  object \n",
      " 4   Hour         134062 non-null  object \n",
      " 5   Location     134062 non-null  object \n",
      " 6   Latitude     134062 non-null  object \n",
      " 7   Longitude    134062 non-null  float64\n",
      " 8   Errors       472 non-null     float64\n",
      "dtypes: float64(2), object(7)\n",
      "memory usage: 9.2+ MB\n",
      "None\n",
      "\n",
      "Descripción estadística:\n",
      "           Longitude      Errors\n",
      "count  134062.000000  472.000000\n",
      "mean      -69.891829  -55.095220\n",
      "std        10.655730   10.113674\n",
      "min      -179.989000  -63.016000\n",
      "25%       -71.695000  -58.408000\n",
      "50%       -70.518000  -58.344500\n",
      "75%       -69.002000  -58.249750\n",
      "max       179.647000   -1.535000\n",
      "\n",
      "Valores nulos por columna:\n",
      "UTC Date            0\n",
      "Profoundity         0\n",
      "Magnitude           0\n",
      "Date                0\n",
      "Hour                0\n",
      "Location            0\n",
      "Latitude            0\n",
      "Longitude           0\n",
      "Errors         133590\n",
      "dtype: int64\n"
     ]
    }
   ],
   "source": [
    "# Mostrar las primeras filas del dataset\n",
    "print(\"Primeras filas del dataset:\")\n",
    "print(df.head())\n",
    "\n",
    "# Mostrar información general del dataset\n",
    "print(\"\\nInformación del dataset:\")\n",
    "print(df.info())\n",
    "\n",
    "# Descripción estadística básica del dataset\n",
    "print(\"\\nDescripción estadística:\")\n",
    "print(df.describe())\n",
    "\n",
    "# Verificar si hay valores nulos en el dataset\n",
    "print(\"\\nValores nulos por columna:\")\n",
    "print(df.isnull().sum())\n"
   ]
  },
  {
   "cell_type": "code",
   "execution_count": 39,
   "metadata": {},
   "outputs": [
    {
     "name": "stdout",
     "output_type": "stream",
     "text": [
      "                        Location Latitude  Longitude  Errors\n",
      "0         45 km al SE de Socaire  -23.958    -67.698     NaN\n",
      "1          57 km al E de Socaire  -23.800    -67.375     NaN\n",
      "2           33 km al S de Huasco  -28.755    -71.288     NaN\n",
      "3          49 km al SO de Huasco  -28.822    -71.520     NaN\n",
      "4       16 km al SE de Los Vilos  -31.991    -71.376     NaN\n",
      "...                          ...      ...        ...     ...\n",
      "134057   15 km al SO de Quillota  -32.986    -71.348     NaN\n",
      "134058     22 km al S de Petorca  -32.446    -70.923     NaN\n",
      "134059    18 km al NO de Illapel  -31.535    -71.318     NaN\n",
      "134060  16 km al SO de Melipilla  -33.787    -71.339     NaN\n",
      "134061    22 km al O de Santiago   -33.41    -70.880     NaN\n",
      "\n",
      "[134062 rows x 4 columns]\n"
     ]
    }
   ],
   "source": [
    "import pandas as pd\n",
    "\n",
    "# Supongamos que tu DataFrame original se llama df\n",
    "# Carga el DataFrame desde tu archivo\n",
    "# df = pd.read_csv('tu_archivo.csv')\n",
    "\n",
    "# Crear un nuevo DataFrame con solo las columnas\n",
    "df_separated = df[['Location','Latitude', 'Longitude', 'Errors']]\n",
    "\n",
    "# Mostrar el nuevo DataFrame separado\n",
    "print(df_separated)\n",
    "\n",
    "# Opcional: guardar el DataFrame separado en un nuevo archivo CSV\n",
    "df_separated.to_csv('columnas_separadas.csv', index=False)\n"
   ]
  },
  {
   "cell_type": "code",
   "execution_count": 40,
   "metadata": {},
   "outputs": [
    {
     "name": "stderr",
     "output_type": "stream",
     "text": [
      "C:\\Users\\lea\\AppData\\Local\\Temp\\ipykernel_6784\\1652336599.py:3: DtypeWarning: Columns (1) have mixed types. Specify dtype option on import or set low_memory=False.\n",
      "  df = pd.read_csv(file_path)\n"
     ]
    }
   ],
   "source": [
    "# Cargar el dataset\n",
    "file_path = 'columnas_separadas.csv'\n",
    "df = pd.read_csv(file_path)"
   ]
  },
  {
   "cell_type": "code",
   "execution_count": 41,
   "metadata": {},
   "outputs": [
    {
     "name": "stdout",
     "output_type": "stream",
     "text": [
      "Primeras filas del dataset:\n",
      "                   Location Latitude  Longitude  Errors\n",
      "0    45 km al SE de Socaire  -23.958    -67.698     NaN\n",
      "1     57 km al E de Socaire  -23.800    -67.375     NaN\n",
      "2      33 km al S de Huasco  -28.755    -71.288     NaN\n",
      "3     49 km al SO de Huasco  -28.822    -71.520     NaN\n",
      "4  16 km al SE de Los Vilos  -31.991    -71.376     NaN\n",
      "\n",
      "Información del dataset:\n",
      "<class 'pandas.core.frame.DataFrame'>\n",
      "RangeIndex: 134062 entries, 0 to 134061\n",
      "Data columns (total 4 columns):\n",
      " #   Column     Non-Null Count   Dtype  \n",
      "---  ------     --------------   -----  \n",
      " 0   Location   134062 non-null  object \n",
      " 1   Latitude   134062 non-null  object \n",
      " 2   Longitude  134062 non-null  float64\n",
      " 3   Errors     472 non-null     float64\n",
      "dtypes: float64(2), object(2)\n",
      "memory usage: 4.1+ MB\n",
      "None\n",
      "\n",
      "Descripción estadística:\n",
      "           Longitude      Errors\n",
      "count  134062.000000  472.000000\n",
      "mean      -69.891829  -55.095220\n",
      "std        10.655730   10.113674\n",
      "min      -179.989000  -63.016000\n",
      "25%       -71.695000  -58.408000\n",
      "50%       -70.518000  -58.344500\n",
      "75%       -69.002000  -58.249750\n",
      "max       179.647000   -1.535000\n",
      "\n",
      "Valores nulos por columna:\n",
      "Location          0\n",
      "Latitude          0\n",
      "Longitude         0\n",
      "Errors       133590\n",
      "dtype: int64\n"
     ]
    }
   ],
   "source": [
    "# Mostrar las primeras filas del dataset\n",
    "print(\"Primeras filas del dataset:\")\n",
    "print(df.head())\n",
    "\n",
    "# Mostrar información general del dataset\n",
    "print(\"\\nInformación del dataset:\")\n",
    "print(df.info())\n",
    "\n",
    "# Descripción estadística básica del dataset\n",
    "print(\"\\nDescripción estadística:\")\n",
    "print(df.describe())\n",
    "\n",
    "# Verificar si hay valores nulos en el dataset\n",
    "print(\"\\nValores nulos por columna:\")\n",
    "print(df.isnull().sum())\n"
   ]
  },
  {
   "cell_type": "code",
   "execution_count": 42,
   "metadata": {},
   "outputs": [
    {
     "name": "stdout",
     "output_type": "stream",
     "text": [
      "                         Location     Latitude  Longitude  Errors\n",
      "3167     183 km al S de Base Frei   AntÃ¡rtica    -63.844 -59.006\n",
      "8275     117 km al E de Base Frei   AntÃ¡rtica    -61.554 -57.199\n",
      "11985    130 km al O de Base Frei   AntÃ¡rtica    -62.293 -61.480\n",
      "12531     31 km al E de Base Frei   AntÃ¡rtica    -62.186 -58.380\n",
      "12564     12 km al E de Base Frei   AntÃ¡rtica    -62.148 -58.755\n",
      "...                           ...          ...        ...     ...\n",
      "120467  1863 km al E de Base Frei   AntÃ¡rtica    -58.674 -25.359\n",
      "120654  1903 km al E de Base Frei   AntÃ¡rtica    -57.929 -25.329\n",
      "120730  1876 km al E de Base Frei   AntÃ¡rtica    -55.325 -28.844\n",
      "122284  1899 km al E de Base Frei   AntÃ¡rtica    -55.699 -27.913\n",
      "122692  2421 km al E de Base Frei   AntÃ¡rtica    -58.433 -14.751\n",
      "\n",
      "[472 rows x 4 columns]\n"
     ]
    }
   ],
   "source": [
    "# Filtrar las filas donde la columna 'Latitude' tiene el valor 'AntÃ¡rtica'\n",
    "df_filtered = df[df['Latitude'].str.contains('AntÃ¡rtica', na=False, case=False)]\n",
    "\n",
    "# Mostrar el DataFrame filtrado\n",
    "print(df_filtered)\n"
   ]
  },
  {
   "cell_type": "code",
   "execution_count": 43,
   "metadata": {},
   "outputs": [],
   "source": [
    "# Cargar el dataset\n",
    "file_path = 'df.csv'\n",
    "df = pd.read_csv(file_path)"
   ]
  },
  {
   "cell_type": "code",
   "execution_count": 44,
   "metadata": {},
   "outputs": [],
   "source": [
    "# Eliminar la columna sin nombre (Unnamed: 8)\n",
    "df = df.drop(columns=['Unnamed: 8'])\n",
    "df.to_csv('df_final.csv', index=False)\n",
    "\n",
    "# Guardar el nuevo DataFrame sin la columna"
   ]
  },
  {
   "cell_type": "code",
   "execution_count": 2,
   "metadata": {},
   "outputs": [],
   "source": [
    "# Cargar el dataset\n",
    "file_path = 'df_final.csv'\n",
    "df = pd.read_csv(file_path)"
   ]
  },
  {
   "cell_type": "code",
   "execution_count": 85,
   "metadata": {},
   "outputs": [
    {
     "name": "stdout",
     "output_type": "stream",
     "text": [
      "Primeras filas del dataset:\n",
      "              UTC Date Profoundity Magnitude        Date      Hour  \\\n",
      "0  2024-03-01 16:35:22      243 km    2.9 Ml  2024-03-01  13:35:22   \n",
      "1  2024-03-01 15:41:03      259 km    3.6 Ml  2024-03-01  12:41:03   \n",
      "2   2024-03-01 8:27:13       26 km    2.9 Ml  2024-03-01   5:27:13   \n",
      "3   2024-03-01 8:22:21       54 km    3.7 Ml  2024-03-01   5:22:21   \n",
      "4   2024-03-01 7:12:58       20 km    2.9 Ml  2024-03-01   4:12:58   \n",
      "\n",
      "                   Location  Latitude  Longitude  \n",
      "0    45 km al SE de Socaire   -23.958    -67.698  \n",
      "1     57 km al E de Socaire   -23.800    -67.375  \n",
      "2      33 km al S de Huasco   -28.755    -71.288  \n",
      "3     49 km al SO de Huasco   -28.822    -71.520  \n",
      "4  16 km al SE de Los Vilos   -31.991    -71.376  \n",
      "\n",
      "Información del dataset:\n",
      "<class 'pandas.core.frame.DataFrame'>\n",
      "RangeIndex: 134062 entries, 0 to 134061\n",
      "Data columns (total 8 columns):\n",
      " #   Column       Non-Null Count   Dtype  \n",
      "---  ------       --------------   -----  \n",
      " 0   UTC Date     134062 non-null  object \n",
      " 1   Profoundity  134062 non-null  object \n",
      " 2   Magnitude    134062 non-null  object \n",
      " 3   Date         134062 non-null  object \n",
      " 4   Hour         134062 non-null  object \n",
      " 5   Location     134062 non-null  object \n",
      " 6   Latitude     134062 non-null  float64\n",
      " 7   Longitude    134062 non-null  float64\n",
      "dtypes: float64(2), object(6)\n",
      "memory usage: 8.2+ MB\n",
      "None\n",
      "\n",
      "Descripción estadística:\n",
      "            Latitude      Longitude\n",
      "count  134062.000000  134062.000000\n",
      "mean      -28.144294     -69.867985\n",
      "std         7.011530      10.697731\n",
      "min       -65.399000    -179.989000\n",
      "25%       -33.075000     -71.695000\n",
      "50%       -29.800500     -70.518000\n",
      "75%       -22.008000     -69.002000\n",
      "max        58.692000     179.647000\n",
      "\n",
      "Valores nulos por columna:\n",
      "UTC Date       0\n",
      "Profoundity    0\n",
      "Magnitude      0\n",
      "Date           0\n",
      "Hour           0\n",
      "Location       0\n",
      "Latitude       0\n",
      "Longitude      0\n",
      "dtype: int64\n"
     ]
    }
   ],
   "source": [
    "# Mostrar las primeras filas del dataset\n",
    "print(\"Primeras filas del dataset:\")\n",
    "print(df.head())\n",
    "\n",
    "# Mostrar información general del dataset\n",
    "print(\"\\nInformación del dataset:\")\n",
    "print(df.info())\n",
    "\n",
    "# Descripción estadística básica del dataset\n",
    "print(\"\\nDescripción estadística:\")\n",
    "print(df.describe())\n",
    "\n",
    "# Verificar si hay valores nulos en el dataset\n",
    "print(\"\\nValores nulos por columna:\")\n",
    "print(df.isnull().sum())\n"
   ]
  },
  {
   "cell_type": "code",
   "execution_count": 86,
   "metadata": {},
   "outputs": [
    {
     "name": "stdout",
     "output_type": "stream",
     "text": [
      "['Ml' 'Mw' 'Mww' 'Mb' 'Mlv' 'M' 'Ms' 'Mc']\n"
     ]
    }
   ],
   "source": [
    "# Identificar valores únicos en la columna 'Magnitude' que no se pueden convertir a float\n",
    "unusual_values = df['Magnitude'].str.extract(r'([^\\d\\.\\s]+)')\n",
    "\n",
    "# Mostrar los valores únicos inusuales encontrados\n",
    "print(unusual_values[0].dropna().unique())\n"
   ]
  },
  {
   "cell_type": "code",
   "execution_count": 3,
   "metadata": {},
   "outputs": [
    {
     "name": "stdout",
     "output_type": "stream",
     "text": [
      "['km']\n"
     ]
    }
   ],
   "source": [
    "# Identificar valores únicos en la columna 'Magnitude' que no se pueden convertir a float\n",
    "unusual_values_Profoundity = df['Profoundity'].str.extract(r'([^\\d\\.\\s]+)')\n",
    "\n",
    "# Mostrar los valores únicos inusuales encontrados\n",
    "print(unusual_values_Profoundity[0].dropna().unique())"
   ]
  },
  {
   "cell_type": "code",
   "execution_count": 4,
   "metadata": {},
   "outputs": [
    {
     "name": "stdout",
     "output_type": "stream",
     "text": [
      "   Magnitude\n",
      "0        2.9\n",
      "1        3.6\n",
      "2        2.9\n",
      "3        3.7\n",
      "4        2.9\n"
     ]
    }
   ],
   "source": [
    "# Eliminar las letras (escala) y convertir a float\n",
    "df['Magnitude'] = df['Magnitude'].str.extract(r'([\\d\\.]+)').astype(float)\n",
    "\n",
    "# Verificar que la conversión fue exitosa\n",
    "print(df[['Magnitude']].head())\n"
   ]
  },
  {
   "cell_type": "code",
   "execution_count": 5,
   "metadata": {},
   "outputs": [
    {
     "name": "stdout",
     "output_type": "stream",
     "text": [
      "   Profoundity\n",
      "0        243.0\n",
      "1        259.0\n",
      "2         26.0\n",
      "3         54.0\n",
      "4         20.0\n"
     ]
    }
   ],
   "source": [
    "# Eliminar las letras (escala) y convertir a float\n",
    "df['Profoundity'] = df['Profoundity'].str.extract(r'([\\d\\.]+)').astype(float)\n",
    "\n",
    "# Verificar que la conversión fue exitosa\n",
    "print(df[['Profoundity']].head())"
   ]
  },
  {
   "cell_type": "code",
   "execution_count": 90,
   "metadata": {},
   "outputs": [
    {
     "name": "stdout",
     "output_type": "stream",
     "text": [
      "\n",
      "Valores nulos por columna:\n",
      "UTC Date       0\n",
      "Profoundity    0\n",
      "Magnitude      0\n",
      "Date           0\n",
      "Hour           0\n",
      "Location       0\n",
      "Latitude       0\n",
      "Longitude      0\n",
      "dtype: int64\n"
     ]
    }
   ],
   "source": [
    "print(\"\\nValores nulos por columna:\")\n",
    "print(df.isnull().sum())\n"
   ]
  },
  {
   "cell_type": "code",
   "execution_count": 91,
   "metadata": {},
   "outputs": [
    {
     "name": "stdout",
     "output_type": "stream",
     "text": [
      "Columna y tipo de dato\n",
      "----------------------\n"
     ]
    },
    {
     "data": {
      "text/plain": [
       "UTC Date        object\n",
       "Profoundity    float64\n",
       "Magnitude      float64\n",
       "Date            object\n",
       "Hour            object\n",
       "Location        object\n",
       "Latitude       float64\n",
       "Longitude      float64\n",
       "dtype: object"
      ]
     },
     "execution_count": 91,
     "metadata": {},
     "output_type": "execute_result"
    }
   ],
   "source": [
    "\n",
    "#Revisamos los tipos de datos que representa cada columna\n",
    "encabezado='Columna y tipo de dato'\n",
    "print(encabezado)\n",
    "print('-'*len(encabezado))\n",
    "df.dtypes"
   ]
  },
  {
   "cell_type": "code",
   "execution_count": 92,
   "metadata": {},
   "outputs": [],
   "source": [
    "import numpy as np"
   ]
  },
  {
   "cell_type": "code",
   "execution_count": 93,
   "metadata": {},
   "outputs": [
    {
     "name": "stdout",
     "output_type": "stream",
     "text": [
      "La cantidad de filas y columnas en nuestro dataframe es de: (134062, 8)\n"
     ]
    }
   ],
   "source": [
    "info = df.shape\n",
    "print(\"La cantidad de filas y columnas en nuestro dataframe es de:\",info)"
   ]
  },
  {
   "cell_type": "code",
   "execution_count": 94,
   "metadata": {},
   "outputs": [
    {
     "data": {
      "text/html": [
       "<div>\n",
       "<style scoped>\n",
       "    .dataframe tbody tr th:only-of-type {\n",
       "        vertical-align: middle;\n",
       "    }\n",
       "\n",
       "    .dataframe tbody tr th {\n",
       "        vertical-align: top;\n",
       "    }\n",
       "\n",
       "    .dataframe thead th {\n",
       "        text-align: right;\n",
       "    }\n",
       "</style>\n",
       "<table border=\"1\" class=\"dataframe\">\n",
       "  <thead>\n",
       "    <tr style=\"text-align: right;\">\n",
       "      <th></th>\n",
       "      <th>Profoundity</th>\n",
       "      <th>Magnitude</th>\n",
       "      <th>Latitude</th>\n",
       "      <th>Longitude</th>\n",
       "    </tr>\n",
       "  </thead>\n",
       "  <tbody>\n",
       "    <tr>\n",
       "      <th>count</th>\n",
       "      <td>134062.000000</td>\n",
       "      <td>134062.000000</td>\n",
       "      <td>134062.000000</td>\n",
       "      <td>134062.000000</td>\n",
       "    </tr>\n",
       "    <tr>\n",
       "      <th>mean</th>\n",
       "      <td>76.958653</td>\n",
       "      <td>3.252443</td>\n",
       "      <td>-28.144294</td>\n",
       "      <td>-69.867985</td>\n",
       "    </tr>\n",
       "    <tr>\n",
       "      <th>std</th>\n",
       "      <td>61.181450</td>\n",
       "      <td>0.679481</td>\n",
       "      <td>7.011530</td>\n",
       "      <td>10.697731</td>\n",
       "    </tr>\n",
       "    <tr>\n",
       "      <th>min</th>\n",
       "      <td>0.000000</td>\n",
       "      <td>1.000000</td>\n",
       "      <td>-65.399000</td>\n",
       "      <td>-179.989000</td>\n",
       "    </tr>\n",
       "    <tr>\n",
       "      <th>25%</th>\n",
       "      <td>30.000000</td>\n",
       "      <td>2.800000</td>\n",
       "      <td>-33.075000</td>\n",
       "      <td>-71.695000</td>\n",
       "    </tr>\n",
       "    <tr>\n",
       "      <th>50%</th>\n",
       "      <td>56.000000</td>\n",
       "      <td>3.100000</td>\n",
       "      <td>-29.800500</td>\n",
       "      <td>-70.518000</td>\n",
       "    </tr>\n",
       "    <tr>\n",
       "      <th>75%</th>\n",
       "      <td>112.000000</td>\n",
       "      <td>3.600000</td>\n",
       "      <td>-22.008000</td>\n",
       "      <td>-69.002000</td>\n",
       "    </tr>\n",
       "    <tr>\n",
       "      <th>max</th>\n",
       "      <td>676.000000</td>\n",
       "      <td>8.800000</td>\n",
       "      <td>58.692000</td>\n",
       "      <td>179.647000</td>\n",
       "    </tr>\n",
       "  </tbody>\n",
       "</table>\n",
       "</div>"
      ],
      "text/plain": [
       "         Profoundity      Magnitude       Latitude      Longitude\n",
       "count  134062.000000  134062.000000  134062.000000  134062.000000\n",
       "mean       76.958653       3.252443     -28.144294     -69.867985\n",
       "std        61.181450       0.679481       7.011530      10.697731\n",
       "min         0.000000       1.000000     -65.399000    -179.989000\n",
       "25%        30.000000       2.800000     -33.075000     -71.695000\n",
       "50%        56.000000       3.100000     -29.800500     -70.518000\n",
       "75%       112.000000       3.600000     -22.008000     -69.002000\n",
       "max       676.000000       8.800000      58.692000     179.647000"
      ]
     },
     "execution_count": 94,
     "metadata": {},
     "output_type": "execute_result"
    }
   ],
   "source": [
    "df.describe()"
   ]
  },
  {
   "cell_type": "code",
   "execution_count": 95,
   "metadata": {},
   "outputs": [
    {
     "ename": "KeyboardInterrupt",
     "evalue": "",
     "output_type": "error",
     "traceback": [
      "\u001b[1;31m---------------------------------------------------------------------------\u001b[0m",
      "\u001b[1;31mKeyboardInterrupt\u001b[0m                         Traceback (most recent call last)",
      "File \u001b[1;32m_zmq.py:160\u001b[0m, in \u001b[0;36mzmq.backend.cython._zmq._check_rc\u001b[1;34m()\u001b[0m\n",
      "\u001b[1;31mKeyboardInterrupt\u001b[0m: "
     ]
    },
    {
     "name": "stderr",
     "output_type": "stream",
     "text": [
      "Exception ignored in: 'zmq.backend.cython._zmq.Frame.__del__'\n",
      "Traceback (most recent call last):\n",
      "  File \"_zmq.py\", line 160, in zmq.backend.cython._zmq._check_rc\n",
      "KeyboardInterrupt: \n"
     ]
    }
   ],
   "source": [
    "import folium\n",
    "\n",
    "# Crear un mapa centrado en Chile (latitud y longitud aproximadas)\n",
    "m = folium.Map(location=[-33.45, -70.65], zoom_start=5)  # Santiago de Chile como referencia\n",
    "\n",
    "# Agregar los puntos del dataset al mapa\n",
    "for index, row in df.iterrows():\n",
    "    folium.CircleMarker(\n",
    "        location=[row['Latitude'], row['Longitude']],\n",
    "        radius=5,\n",
    "        popup=f\"Magnitude: {row['Magnitude']}, Location: {row['Location']}\",\n",
    "        color='blue',\n",
    "        fill=True,\n",
    "        fill_color='blue'\n",
    "    ).add_to(m)\n",
    "\n",
    "# Guardar el mapa en un archivo HTML\n",
    "m.save('mapa_chile.html')\n",
    "m\n"
   ]
  },
  {
   "cell_type": "code",
   "execution_count": 6,
   "metadata": {},
   "outputs": [
    {
     "data": {
      "text/html": [
       "<div style=\"width:100%;\"><div style=\"position:relative;width:100%;height:0;padding-bottom:60%;\"><span style=\"color:#565656\">Make this Notebook Trusted to load map: File -> Trust Notebook</span><iframe srcdoc=\"&lt;!DOCTYPE html&gt;\n",
       "&lt;html&gt;\n",
       "&lt;head&gt;\n",
       "    \n",
       "    &lt;meta http-equiv=&quot;content-type&quot; content=&quot;text/html; charset=UTF-8&quot; /&gt;\n",
       "    \n",
       "        &lt;script&gt;\n",
       "            L_NO_TOUCH = false;\n",
       "            L_DISABLE_3D = false;\n",
       "        &lt;/script&gt;\n",
       "    \n",
       "    &lt;style&gt;html, body {width: 100%;height: 100%;margin: 0;padding: 0;}&lt;/style&gt;\n",
       "    &lt;style&gt;#map {position:absolute;top:0;bottom:0;right:0;left:0;}&lt;/style&gt;\n",
       "    &lt;script src=&quot;https://cdn.jsdelivr.net/npm/leaflet@1.9.3/dist/leaflet.js&quot;&gt;&lt;/script&gt;\n",
       "    &lt;script src=&quot;https://code.jquery.com/jquery-3.7.1.min.js&quot;&gt;&lt;/script&gt;\n",
       "    &lt;script src=&quot;https://cdn.jsdelivr.net/npm/bootstrap@5.2.2/dist/js/bootstrap.bundle.min.js&quot;&gt;&lt;/script&gt;\n",
       "    &lt;script src=&quot;https://cdnjs.cloudflare.com/ajax/libs/Leaflet.awesome-markers/2.0.2/leaflet.awesome-markers.js&quot;&gt;&lt;/script&gt;\n",
       "    &lt;link rel=&quot;stylesheet&quot; href=&quot;https://cdn.jsdelivr.net/npm/leaflet@1.9.3/dist/leaflet.css&quot;/&gt;\n",
       "    &lt;link rel=&quot;stylesheet&quot; href=&quot;https://cdn.jsdelivr.net/npm/bootstrap@5.2.2/dist/css/bootstrap.min.css&quot;/&gt;\n",
       "    &lt;link rel=&quot;stylesheet&quot; href=&quot;https://netdna.bootstrapcdn.com/bootstrap/3.0.0/css/bootstrap-glyphicons.css&quot;/&gt;\n",
       "    &lt;link rel=&quot;stylesheet&quot; href=&quot;https://cdn.jsdelivr.net/npm/@fortawesome/fontawesome-free@6.2.0/css/all.min.css&quot;/&gt;\n",
       "    &lt;link rel=&quot;stylesheet&quot; href=&quot;https://cdnjs.cloudflare.com/ajax/libs/Leaflet.awesome-markers/2.0.2/leaflet.awesome-markers.css&quot;/&gt;\n",
       "    &lt;link rel=&quot;stylesheet&quot; href=&quot;https://cdn.jsdelivr.net/gh/python-visualization/folium/folium/templates/leaflet.awesome.rotate.min.css&quot;/&gt;\n",
       "    \n",
       "            &lt;meta name=&quot;viewport&quot; content=&quot;width=device-width,\n",
       "                initial-scale=1.0, maximum-scale=1.0, user-scalable=no&quot; /&gt;\n",
       "            &lt;style&gt;\n",
       "                #map_e5428904a713384a38f7d37af846bf45 {\n",
       "                    position: relative;\n",
       "                    width: 100.0%;\n",
       "                    height: 100.0%;\n",
       "                    left: 0.0%;\n",
       "                    top: 0.0%;\n",
       "                }\n",
       "                .leaflet-container { font-size: 1rem; }\n",
       "            &lt;/style&gt;\n",
       "        \n",
       "&lt;/head&gt;\n",
       "&lt;body&gt;\n",
       "    \n",
       "    \n",
       "            &lt;div class=&quot;folium-map&quot; id=&quot;map_e5428904a713384a38f7d37af846bf45&quot; &gt;&lt;/div&gt;\n",
       "        \n",
       "&lt;/body&gt;\n",
       "&lt;script&gt;\n",
       "    \n",
       "    \n",
       "            var map_e5428904a713384a38f7d37af846bf45 = L.map(\n",
       "                &quot;map_e5428904a713384a38f7d37af846bf45&quot;,\n",
       "                {\n",
       "                    center: [-33.45, -70.65],\n",
       "                    crs: L.CRS.EPSG3857,\n",
       "                    zoom: 5,\n",
       "                    zoomControl: true,\n",
       "                    preferCanvas: false,\n",
       "                }\n",
       "            );\n",
       "\n",
       "            \n",
       "\n",
       "        \n",
       "    \n",
       "            var tile_layer_abc310914390fff6754b0249caa46ee1 = L.tileLayer(\n",
       "                &quot;https://tile.openstreetmap.org/{z}/{x}/{y}.png&quot;,\n",
       "                {&quot;attribution&quot;: &quot;\\u0026copy; \\u003ca href=\\&quot;https://www.openstreetmap.org/copyright\\&quot;\\u003eOpenStreetMap\\u003c/a\\u003e contributors&quot;, &quot;detectRetina&quot;: false, &quot;maxNativeZoom&quot;: 19, &quot;maxZoom&quot;: 19, &quot;minZoom&quot;: 0, &quot;noWrap&quot;: false, &quot;opacity&quot;: 1, &quot;subdomains&quot;: &quot;abc&quot;, &quot;tms&quot;: false}\n",
       "            );\n",
       "        \n",
       "    \n",
       "            tile_layer_abc310914390fff6754b0249caa46ee1.addTo(map_e5428904a713384a38f7d37af846bf45);\n",
       "        \n",
       "    \n",
       "            var circle_marker_10324b7e8b9eeef1b97707b85ba7e500 = L.circleMarker(\n",
       "                [-31.637, -71.741],\n",
       "                {&quot;bubblingMouseEvents&quot;: true, &quot;color&quot;: &quot;red&quot;, &quot;dashArray&quot;: null, &quot;dashOffset&quot;: null, &quot;fill&quot;: true, &quot;fillColor&quot;: &quot;red&quot;, &quot;fillOpacity&quot;: 0.2, &quot;fillRule&quot;: &quot;evenodd&quot;, &quot;lineCap&quot;: &quot;round&quot;, &quot;lineJoin&quot;: &quot;round&quot;, &quot;opacity&quot;: 1.0, &quot;radius&quot;: 8, &quot;stroke&quot;: true, &quot;weight&quot;: 3}\n",
       "            ).addTo(map_e5428904a713384a38f7d37af846bf45);\n",
       "        \n",
       "    \n",
       "        var popup_fb96ca68bb8e793472e47af77bcc58d9 = L.popup({&quot;maxWidth&quot;: &quot;100%&quot;});\n",
       "\n",
       "        \n",
       "            \n",
       "                var html_3db38473cad3e3638d702b2faaec16df = $(`&lt;div id=&quot;html_3db38473cad3e3638d702b2faaec16df&quot; style=&quot;width: 100.0%; height: 100.0%;&quot;&gt;Magnitude: 8.4, Location: 37 km al NO de Los Vilos&lt;/div&gt;`)[0];\n",
       "                popup_fb96ca68bb8e793472e47af77bcc58d9.setContent(html_3db38473cad3e3638d702b2faaec16df);\n",
       "            \n",
       "        \n",
       "\n",
       "        circle_marker_10324b7e8b9eeef1b97707b85ba7e500.bindPopup(popup_fb96ca68bb8e793472e47af77bcc58d9)\n",
       "        ;\n",
       "\n",
       "        \n",
       "    \n",
       "    \n",
       "            var circle_marker_9e45ae2d12765650535999b7cf275539 = L.circleMarker(\n",
       "                [-19.572, -70.908],\n",
       "                {&quot;bubblingMouseEvents&quot;: true, &quot;color&quot;: &quot;red&quot;, &quot;dashArray&quot;: null, &quot;dashOffset&quot;: null, &quot;fill&quot;: true, &quot;fillColor&quot;: &quot;red&quot;, &quot;fillOpacity&quot;: 0.2, &quot;fillRule&quot;: &quot;evenodd&quot;, &quot;lineCap&quot;: &quot;round&quot;, &quot;lineJoin&quot;: &quot;round&quot;, &quot;opacity&quot;: 1.0, &quot;radius&quot;: 8, &quot;stroke&quot;: true, &quot;weight&quot;: 3}\n",
       "            ).addTo(map_e5428904a713384a38f7d37af846bf45);\n",
       "        \n",
       "    \n",
       "        var popup_0ec0623af8f76e00007325d376b1c605 = L.popup({&quot;maxWidth&quot;: &quot;100%&quot;});\n",
       "\n",
       "        \n",
       "            \n",
       "                var html_4ba5a6cb8a6a389a55031c9973195e03 = $(`&lt;div id=&quot;html_4ba5a6cb8a6a389a55031c9973195e03&quot; style=&quot;width: 100.0%; height: 100.0%;&quot;&gt;Magnitude: 8.2, Location: 73 km al O de Pisagua&lt;/div&gt;`)[0];\n",
       "                popup_0ec0623af8f76e00007325d376b1c605.setContent(html_4ba5a6cb8a6a389a55031c9973195e03);\n",
       "            \n",
       "        \n",
       "\n",
       "        circle_marker_9e45ae2d12765650535999b7cf275539.bindPopup(popup_0ec0623af8f76e00007325d376b1c605)\n",
       "        ;\n",
       "\n",
       "        \n",
       "    \n",
       "    \n",
       "            var circle_marker_e086dc686dbeae997b2b2b04af094f66 = L.circleMarker(\n",
       "                [-36.29, -73.239],\n",
       "                {&quot;bubblingMouseEvents&quot;: true, &quot;color&quot;: &quot;red&quot;, &quot;dashArray&quot;: null, &quot;dashOffset&quot;: null, &quot;fill&quot;: true, &quot;fillColor&quot;: &quot;red&quot;, &quot;fillOpacity&quot;: 0.2, &quot;fillRule&quot;: &quot;evenodd&quot;, &quot;lineCap&quot;: &quot;round&quot;, &quot;lineJoin&quot;: &quot;round&quot;, &quot;opacity&quot;: 1.0, &quot;radius&quot;: 8, &quot;stroke&quot;: true, &quot;weight&quot;: 3}\n",
       "            ).addTo(map_e5428904a713384a38f7d37af846bf45);\n",
       "        \n",
       "    \n",
       "        var popup_ac67e160511f95cccef1b2f182d6ee22 = L.popup({&quot;maxWidth&quot;: &quot;100%&quot;});\n",
       "\n",
       "        \n",
       "            \n",
       "                var html_ec038b3be748bf29f511d5d02a716044 = $(`&lt;div id=&quot;html_ec038b3be748bf29f511d5d02a716044&quot; style=&quot;width: 100.0%; height: 100.0%;&quot;&gt;Magnitude: 8.8, Location: 44 km al O de Cobquecura&lt;/div&gt;`)[0];\n",
       "                popup_ac67e160511f95cccef1b2f182d6ee22.setContent(html_ec038b3be748bf29f511d5d02a716044);\n",
       "            \n",
       "        \n",
       "\n",
       "        circle_marker_e086dc686dbeae997b2b2b04af094f66.bindPopup(popup_ac67e160511f95cccef1b2f182d6ee22)\n",
       "        ;\n",
       "\n",
       "        \n",
       "    \n",
       "&lt;/script&gt;\n",
       "&lt;/html&gt;\" style=\"position:absolute;width:100%;height:100%;left:0;top:0;border:none !important;\" allowfullscreen webkitallowfullscreen mozallowfullscreen></iframe></div></div>"
      ],
      "text/plain": [
       "<folium.folium.Map at 0x1e408084f80>"
      ]
     },
     "execution_count": 6,
     "metadata": {},
     "output_type": "execute_result"
    }
   ],
   "source": [
    "import folium\n",
    "import pandas as pd\n",
    "\n",
    "# Asegurarse de que la columna de fecha esté en formato datetime\n",
    "df['Date'] = pd.to_datetime(df['Date'], errors='coerce')\n",
    "\n",
    "# Filtrar los datos para sismos con magnitud > 8.0 entre 2010 y 2024\n",
    "df_filtered = df[(df['Magnitude'] > 8.0) & (df['Date'].dt.year >= 2010) & (df['Date'].dt.year <= 2024)]\n",
    "\n",
    "# Crear un mapa centrado en Chile (latitud y longitud aproximadas)\n",
    "m = folium.Map(location=[-33.45, -70.65], zoom_start=5)  # Santiago de Chile como referencia\n",
    "\n",
    "# Agregar los puntos filtrados del dataset al mapa\n",
    "for index, row in df_filtered.iterrows():\n",
    "    folium.CircleMarker(\n",
    "        location=[row['Latitude'], row['Longitude']],\n",
    "        radius=8,  # Aumentar el tamaño para resaltar eventos grandes\n",
    "        popup=f\"Magnitude: {row['Magnitude']}, Location: {row['Location']}\",\n",
    "        color='red',\n",
    "        fill=True,\n",
    "        fill_color='red'\n",
    "    ).add_to(m)\n",
    "\n",
    "# Guardar el mapa en un archivo HTML\n",
    "#m.save('mapa_chile_magnitudes_sobre_8.html')\n",
    "\n",
    "# Mostrar el mapa si estás en un entorno que lo soporte\n",
    "m\n"
   ]
  },
  {
   "cell_type": "code",
   "execution_count": 8,
   "metadata": {},
   "outputs": [],
   "source": [
    "import matplotlib.pyplot as plt\n"
   ]
  },
  {
   "cell_type": "code",
   "execution_count": 11,
   "metadata": {},
   "outputs": [
    {
     "data": {
      "image/png": "[encoded data removed]",
      "text/plain": [
       "<Figure size 640x480 with 1 Axes>"
      ]
     },
     "metadata": {},
     "output_type": "display_data"
    }
   ],
   "source": [
    "\n",
    "# Calcular la frecuencia de MinTemp\n",
    "frecuenciaMinTemp = df['Magnitude'].value_counts()\n",
    "\n",
    "# Crear un gráfico de barras\n",
    "plt.bar(frecuenciaMinTemp.index, frecuenciaMinTemp.values, color='#4C72B0')\n",
    "\n",
    "# Agregar etiquetas al gráfico\n",
    "plt.title('Frecuencia de Sismos en chile desde 2000 - 2024')\n",
    "plt.xlabel('Grados Sismos')\n",
    "plt.ylabel('Frecuencia')\n",
    "plt.xticks(rotation=90)\n",
    "\n",
    "# Mostrar el gráfico\n",
    "plt.show()"
   ]
  }
 ],
 "metadata": {
  "kernelspec": {
   "display_name": "Python 3",
   "language": "python",
   "name": "python3"
  },
  "language_info": {
   "codemirror_mode": {
    "name": "ipython",
    "version": 3
   },
   "file_extension": ".py",
   "mimetype": "text/x-python",
   "name": "python",
   "nbconvert_exporter": "python",
   "pygments_lexer": "ipython3",
   "version": "3.12.5"
  }
 },
 "nbformat": 4,
 "nbformat_minor": 2
}
